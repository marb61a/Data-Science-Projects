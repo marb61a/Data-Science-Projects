{
 "cells": [
  {
   "cell_type": "markdown",
   "source": [
    "### Customer Churn study\r\n",
    "#### Using logistic regression to try and predict if a customer will switch telecom providers\r\n",
    "#### There are 21 predictor variable that are used to try and make predictions"
   ],
   "metadata": {}
  },
  {
   "cell_type": "code",
   "execution_count": null,
   "source": [
    "# Imports\r\n",
    "import pandas as pd\r\n",
    "import numpy as np"
   ],
   "outputs": [],
   "metadata": {}
  },
  {
   "cell_type": "code",
   "execution_count": null,
   "source": [
    "# Import datasets\r\n",
    "churn_data = pd.read_csv(\"churn_data.csv\")\r\n",
    "customer_data = pd.read_csv(\"customer_data.csv\")\r\n",
    "internet_data = pd.read_csv(\"internet_data.csv\")"
   ],
   "outputs": [],
   "metadata": {}
  },
  {
   "cell_type": "code",
   "execution_count": null,
   "source": [
    "# Merging (Similar to SQL joining and done here on cutomerID)\r\n",
    "df_1 = pd.merge(churn_data, customer_data, how=\"inner\", on=\"customerID\")"
   ],
   "outputs": [],
   "metadata": {}
  },
  {
   "cell_type": "code",
   "execution_count": null,
   "source": [
    "df_1.info()"
   ],
   "outputs": [],
   "metadata": {}
  },
  {
   "cell_type": "code",
   "execution_count": null,
   "source": [
    "df_1.describe()"
   ],
   "outputs": [],
   "metadata": {}
  },
  {
   "cell_type": "code",
   "execution_count": null,
   "source": [
    "df_1"
   ],
   "outputs": [],
   "metadata": {}
  },
  {
   "cell_type": "code",
   "execution_count": null,
   "source": [
    "# Another merge which will contain all predictor variables\r\n",
    "telecom_data = pd.merge(df_1, internet_data, how=\"inner\", on=\"customerID\")\r\n",
    "telecom_data"
   ],
   "outputs": [],
   "metadata": {}
  },
  {
   "cell_type": "code",
   "execution_count": null,
   "source": [
    "# Examine the dataframe structure\r\n",
    "telecom_data.head(20)"
   ],
   "outputs": [],
   "metadata": {}
  },
  {
   "cell_type": "code",
   "execution_count": null,
   "source": [
    "telecom_data.describe()"
   ],
   "outputs": [],
   "metadata": {}
  },
  {
   "cell_type": "code",
   "execution_count": null,
   "source": [
    "telecom_data.info()"
   ],
   "outputs": [],
   "metadata": {}
  },
  {
   "cell_type": "markdown",
   "source": [
    "#### Data Preparation"
   ],
   "metadata": {}
  },
  {
   "cell_type": "code",
   "execution_count": null,
   "source": [
    "# Convert Yes values to 1 and No values to 0\r\n",
    "telecom_data['PhoneService'] = telecom_data['PhoneService'].map({'Yes': 1, 'No':0})\r\n",
    "telecom_data['PaperlessBilling'] = telecom_data['PaperlessBilling'].map({'Yes': 1, 'No':0})\r\n",
    "telecom_data['Churn'] = telecom_data['Churn'].map({'Yes': 1, 'No':0})\r\n",
    "telecom_data['Partner'] = telecom_data['Partner'].map({'Yes': 1, 'No':0})\r\n",
    "telecom_data['Dependents'] = telecom_data['Dependents'].map({'Yes': 1, 'No':0})"
   ],
   "outputs": [],
   "metadata": {}
  },
  {
   "cell_type": "code",
   "execution_count": null,
   "source": [
    "# Create dummy variable for the variable Contract and drop the first one\r\n",
    "cont = pd.get_dummies(telecom_data['Contract'], prefix='Contract', drop_first=True)\r\n",
    "# Add the results to the main dataframe\r\n",
    "telecom_data = pd.concat([telecom_data, cont], axis=1)"
   ],
   "outputs": [],
   "metadata": {}
  },
  {
   "cell_type": "code",
   "execution_count": null,
   "source": [
    "# Check the dataframe again\r\n",
    "telecom_data"
   ],
   "outputs": [],
   "metadata": {}
  },
  {
   "cell_type": "code",
   "execution_count": null,
   "source": [
    "# Create a dummy variable for PaymentMethod, again dropping the first one\r\n",
    "pm = pd.get_dummies(telecom_data['PaymentMethod'], prefix='PaymentMethod', drop_first=True)\r\n",
    "# Add the results to the main dataframe\r\n",
    "telecom_data = pd.concat([telecom_data, pm], axis=1)"
   ],
   "outputs": [],
   "metadata": {}
  },
  {
   "cell_type": "code",
   "execution_count": null,
   "source": [
    "# Again check the dataframe\r\n",
    "telecom_data"
   ],
   "outputs": [],
   "metadata": {}
  },
  {
   "cell_type": "code",
   "execution_count": null,
   "source": [
    "# Creating a dummy variable for Gender, drop the first one\r\n",
    "gend = pd.get_dummies(telecom_data['gender'], prefix='gender', drop_first=True)\r\n",
    "# Add the results to the main dataframe\r\n",
    "telecom_data = pd.concat([telecom_data, gend], axis=1)\r\n",
    "\r\n",
    "# Creating a dummy variable for MultipleLines\r\n",
    "ml = pd.get_dummies(telecom_data['MultipleLines'], prefix='MultipleLines')\r\n",
    "# Drop the MultipleLines_No service column\r\n",
    "ml1 = ml.drop(['MultipleLines_No phone service'], 1)\r\n",
    "# Add the results to the main dataframe\r\n",
    "telecom_data = pd.concat([telecom_data, ml1], axis=1)\r\n",
    "\r\n",
    "# Creating a dummy variable for InternetService, drop the first one\r\n",
    "iser = pd.get_dummies(telecom_data['InternetService'], prefix='InternetService', drop_first=True)\r\n",
    "# Add the results to the main dataframe\r\n",
    "telecom_data = pd.concat([telecom_data, iser], axis=1)"
   ],
   "outputs": [],
   "metadata": {}
  },
  {
   "cell_type": "code",
   "execution_count": null,
   "source": [
    "telecom_data"
   ],
   "outputs": [],
   "metadata": {}
  },
  {
   "cell_type": "code",
   "execution_count": null,
   "source": [
    "# Creating a dummy variable for OnlineSecurity\r\n",
    "os = pd.get_dummies(telecom_data['OnlineSecurity'], prefix='OnlineSecurity')\r\n",
    "os1 = os.drop(['OnlineSecurity_No internet service'], 1)\r\n",
    "# Add the results to the main dataframe\r\n",
    "telecom_data = pd.concat([telecom_data, os1], axis=1)\r\n",
    "\r\n",
    "# Creating a dummy variable for OnlineBackup\r\n",
    "ob = pd.get_dummies(telecom_data['OnlineBackup'], prefix='OnlineBackup')\r\n",
    "ob1 = ob.drop(['OnlineBackup_No internet service'], 1)\r\n",
    "# Add the results to the main dataframe\r\n",
    "telecom_data = pd.concat([telecom_data, ob1], axis=1)\r\n",
    "\r\n",
    "# Creating a dummy variable for DeviceProtection\r\n",
    "dp = pd.get_dummies(telecom_data['DeviceProtection'], prefix='DeviceProtection')\r\n",
    "dp1 = dp.drop(['DeviceProtection_No internet service'], 1)\r\n",
    "# Add the results to the main dataframe\r\n",
    "telecom_data = pd.concat([telecom_data, iser], axis=1)"
   ],
   "outputs": [],
   "metadata": {}
  },
  {
   "cell_type": "code",
   "execution_count": null,
   "source": [
    "telecom_data"
   ],
   "outputs": [],
   "metadata": {}
  },
  {
   "cell_type": "code",
   "execution_count": null,
   "source": [
    "# Creating a dummy variable for TechSupport\r\n",
    "ts = pd.get_dummies(telecom_data['TechSupport'], prefix='TechSupport')\r\n",
    "ts1 = ts.drop(['TechSupport_No internet service'], 1)\r\n",
    "# Add the results to the main dataframe\r\n",
    "telecom_data = pd.concat([telecom_data, ts1], axis=1)\r\n",
    "\r\n",
    "# Creating a dummy variable for StreamingTV\r\n",
    "st = pd.get_dummies(telecom_data['StreamingTV'], prefix='StreamingTV')\r\n",
    "st1 = st.drop(['StreamingTV_No internet service'], 1)\r\n",
    "# Add the results to the main dataframe\r\n",
    "telecom_data = pd.concat([telecom_data, st1], axis=1)\r\n",
    "\r\n",
    "\r\n",
    "# Creating a dummy variable for StreamingMovies\r\n",
    "sm = pd.get_dummies(telecom_data['StreamingMovies'], prefix='StreamingMovies')\r\n",
    "sm1 = sm.drop(['StreamingMovies_No internet service'], 1)\r\n",
    "# Add the results to the main dataframe\r\n",
    "telecom_data = pd.concat([telecom_data, sm1], axis=1)"
   ],
   "outputs": [],
   "metadata": {}
  },
  {
   "cell_type": "code",
   "execution_count": null,
   "source": [
    "telecom_data"
   ],
   "outputs": [],
   "metadata": {}
  },
  {
   "cell_type": "code",
   "execution_count": null,
   "source": [
    "# As dummies have been created some columns can be dropped\r\n",
    "telecom_data = telecom_data.drop(['Contract', 'PaymentMethod', 'gender', 'MultipleLines', 'InternetService', 'OnlineSecurity', 'OnlineBackup', 'DeviceProtection', 'TechSupport', 'StreamingTV', 'StreamingMovies'], 1)"
   ],
   "outputs": [],
   "metadata": {}
  },
  {
   "cell_type": "code",
   "execution_count": null,
   "source": [
    "# This field needs to be converted form string to float\r\n",
    "pd.to_numeric(telecom_data['TotalCharges'], errors='coerce')"
   ],
   "outputs": [],
   "metadata": {}
  },
  {
   "cell_type": "code",
   "execution_count": null,
   "source": [
    "telecom_data.info()"
   ],
   "outputs": [],
   "metadata": {}
  },
  {
   "cell_type": "markdown",
   "source": [
    "#### Check for outliers"
   ],
   "metadata": {}
  },
  {
   "cell_type": "code",
   "execution_count": null,
   "source": [
    "# Check for outliers in continuous variables\r\n",
    "num_telecom = telecom_data[['tenure', 'MonthlyCharges', 'SeniorCitizen', 'TotalCharges']]"
   ],
   "outputs": [],
   "metadata": {}
  },
  {
   "cell_type": "code",
   "execution_count": null,
   "source": [
    "# Check at certain percentage points\r\n",
    "num_telecom.describe(percentiles=[.25, .5, .75, .90, .95, .99])"
   ],
   "outputs": [],
   "metadata": {}
  },
  {
   "cell_type": "markdown",
   "source": [
    "#### Check for missing values and input them"
   ],
   "metadata": {}
  },
  {
   "cell_type": "code",
   "execution_count": null,
   "source": [
    "# Add up the missing values column-wise\r\n",
    "telecom_data.isnull().sum()"
   ],
   "outputs": [],
   "metadata": {}
  },
  {
   "cell_type": "code",
   "execution_count": null,
   "source": [
    "# Checks the percentage of missing values\r\n",
    "round(100*(telecom_data.isnull().sum()/len(telecom_data.index)), 2)"
   ],
   "outputs": [],
   "metadata": {}
  },
  {
   "cell_type": "code",
   "execution_count": null,
   "source": [
    "# Remove the TotalCharges rows with missing values\r\n",
    "telecom_data.dropna(how='all')"
   ],
   "outputs": [],
   "metadata": {}
  },
  {
   "cell_type": "code",
   "execution_count": null,
   "source": [
    "# Checks the percentage of missing values after removing the missing values\r\n",
    "round(100*(telecom_data.isnull().sum()/len(telecom_data.index)), 2)"
   ],
   "outputs": [],
   "metadata": {}
  },
  {
   "cell_type": "markdown",
   "source": [
    "#### Standardise Features"
   ],
   "metadata": {}
  },
  {
   "cell_type": "code",
   "execution_count": null,
   "source": [
    "df = telecom_data[['tenure', 'MonthlyCharges', 'TotalCharges']]"
   ],
   "outputs": [],
   "metadata": {}
  },
  {
   "cell_type": "code",
   "execution_count": null,
   "source": [
    "normalized_df = (df-df.mean())/df.std()\r\n",
    "normalized_df"
   ],
   "outputs": [],
   "metadata": {}
  },
  {
   "cell_type": "code",
   "execution_count": null,
   "source": [
    "telecom_data = telecom_data.drop(['tenure', 'MonthlyCharges', 'TotalCharges'], 1)"
   ],
   "outputs": [],
   "metadata": {}
  },
  {
   "cell_type": "code",
   "execution_count": null,
   "source": [
    "telecom_data = pd.concat([telecom_data, normalized_df], axis=1)"
   ],
   "outputs": [],
   "metadata": {}
  },
  {
   "cell_type": "code",
   "execution_count": null,
   "source": [
    "telecom_data"
   ],
   "outputs": [],
   "metadata": {}
  },
  {
   "cell_type": "markdown",
   "source": [
    "#### Check the churn rate"
   ],
   "metadata": {}
  },
  {
   "cell_type": "code",
   "execution_count": null,
   "source": [
    "churn_rate = (sum(telecom_data['Churn'])/len(telecom_data['Churn'].index))*100\r\n",
    "churn_rate"
   ],
   "outputs": [],
   "metadata": {}
  },
  {
   "cell_type": "markdown",
   "source": [
    "#### The churn rate above is almost 27%"
   ],
   "metadata": {}
  },
  {
   "cell_type": "markdown",
   "source": [
    "### Building Models\r\n",
    "#### Start by splitting data into training and test sets"
   ],
   "metadata": {}
  },
  {
   "cell_type": "code",
   "execution_count": null,
   "source": [
    "from sklearn.model_selection import train_test_split"
   ],
   "outputs": [],
   "metadata": {}
  },
  {
   "cell_type": "code",
   "execution_count": null,
   "source": [
    "# Set a feature variable for X\r\n",
    "X = telecom_data.drop(['Churn', 'customerID'], axis=1)\r\n",
    "\r\n",
    "# Add a response variabe for y\r\n",
    "y = telecom_data['Churn']"
   ],
   "outputs": [],
   "metadata": {}
  },
  {
   "cell_type": "code",
   "execution_count": null,
   "source": [
    "y.head()"
   ],
   "outputs": [],
   "metadata": {}
  },
  {
   "cell_type": "code",
   "execution_count": null,
   "source": [
    "# Split the data into train and test\r\n",
    "X_train, X_test, y_train, y_test = train_test_split(X, y, train_size=0.7, test_size=0.3, random_state=100)"
   ],
   "outputs": [],
   "metadata": {}
  },
  {
   "cell_type": "markdown",
   "source": [
    "#### Run first training model"
   ],
   "metadata": {}
  },
  {
   "cell_type": "code",
   "execution_count": null,
   "source": [
    "import statsmodels.api as sm"
   ],
   "outputs": [],
   "metadata": {}
  },
  {
   "cell_type": "code",
   "execution_count": null,
   "source": [
    "# Logistic Regression model\r\n",
    "logistic_mod1= sm.GLM(np.asarray(y_train), (sm.add_constant(np.asarray(X_train))), family=sm.families.Binomial())\r\n",
    "logistic_mod1.fit().summary()"
   ],
   "outputs": [],
   "metadata": {}
  },
  {
   "cell_type": "code",
   "execution_count": null,
   "source": [],
   "outputs": [],
   "metadata": {}
  }
 ],
 "metadata": {
  "orig_nbformat": 4,
  "language_info": {
   "name": "python",
   "version": "3.9.5",
   "mimetype": "text/x-python",
   "codemirror_mode": {
    "name": "ipython",
    "version": 3
   },
   "pygments_lexer": "ipython3",
   "nbconvert_exporter": "python",
   "file_extension": ".py"
  },
  "kernelspec": {
   "name": "python3",
   "display_name": "Python 3.9.5 64-bit"
  },
  "interpreter": {
   "hash": "7f6b611ef778d2836621246b29b25ddbc514a472a396a19b999597e8d580c744"
  }
 },
 "nbformat": 4,
 "nbformat_minor": 2
}